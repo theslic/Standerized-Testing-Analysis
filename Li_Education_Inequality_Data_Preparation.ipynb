{
  "nbformat": 4,
  "nbformat_minor": 0,
  "metadata": {
    "colab": {
      "provenance": []
    },
    "kernelspec": {
      "name": "python3",
      "display_name": "Python 3"
    },
    "language_info": {
      "name": "python"
    }
  },
  "cells": [
    {
      "cell_type": "markdown",
      "source": [
        "## Introduction"
      ],
      "metadata": {
        "id": "cOSJyABoshOK"
      }
    },
    {
      "cell_type": "markdown",
      "source": [
        "This notebook is the data preperation for the analysis of standerdized testing. In this notebook we will combine the data from EdGap.org and National Center for Education Statistics. We will clean and combine this dataset and for some of the missing values we will use imputation to fill in missing values."
      ],
      "metadata": {
        "id": "26hIPGtBsi7g"
      }
    },
    {
      "cell_type": "markdown",
      "source": [
        "## Import libraries"
      ],
      "metadata": {
        "id": "dwvtDMCYlPus"
      }
    },
    {
      "cell_type": "code",
      "execution_count": 1,
      "metadata": {
        "id": "DQZAzYri_ru5"
      },
      "outputs": [],
      "source": [
        "import pandas as pd\n",
        "import numpy as np\n",
        "import matplotlib.pyplot as plt\n",
        "import seaborn as sns\n",
        "sns.set_theme(style='whitegrid')\n",
        "import missingno as msno\n",
        "\n",
        "# Train-test splits\n",
        "from sklearn.model_selection import train_test_split\n",
        "\n",
        "# Model preprocessing\n",
        "from sklearn.preprocessing import StandardScaler\n",
        "\n",
        "# Imputation\n",
        "from sklearn.experimental import enable_iterative_imputer\n",
        "from sklearn.impute import SimpleImputer, IterativeImputer, KNNImputer"
      ]
    },
    {
      "cell_type": "markdown",
      "source": [
        "## The data"
      ],
      "metadata": {
        "id": "PQfz_To0dhYX"
      }
    },
    {
      "cell_type": "markdown",
      "source": [
        "This project utilizes two data sets. The primary data set is the EdGap data set from [EdGap.org](https://www.edgap.org/#5/37.875/-96.987). This data set from 2016 includes information about average ACT or SAT scores for schools and several socioeconomic characteristics of the school district. The secondary data set is basic information about each school from the [National Center for Education Statistics](https://nces.ed.gov/ccd/pubschuniv.asp).\n",
        "\n",
        "\n",
        "\n"
      ],
      "metadata": {
        "id": "v7Kz34aWiR-g"
      }
    },
    {
      "cell_type": "markdown",
      "source": [
        "### EdGap data"
      ],
      "metadata": {
        "id": "HUbdlXjMchi-"
      }
    },
    {
      "cell_type": "markdown",
      "source": [
        "All socioeconomic data (household income, unemployment, adult educational attainment, and family structure) are from the Census Bureau's American Community Survey. \n",
        "\n",
        "[EdGap.org](https://www.edgap.org/#5/37.875/-96.987) report that ACT and SAT score data is from each state's department of education or some other public data release. The nature of the other public data release is not known.\n",
        "\n",
        "The quality of the census data and the department of education data can be assumed to be reasonably high. \n",
        "\n",
        "[EdGap.org](https://www.edgap.org/#5/37.875/-96.987) do not indicate that they processed the data in any way. The data were assembled by the [EdGap.org](https://www.edgap.org/#5/37.875/-96.987) team, so there is always the possibility for human error. Given the public nature of the data, we would be able to consult the original data sources to check the quality of the data if we had any questions."
      ],
      "metadata": {
        "id": "JhRr1Z9Bcis6"
      }
    },
    {
      "cell_type": "markdown",
      "source": [
        "### School information data"
      ],
      "metadata": {
        "id": "6ahKtePYcbEZ"
      }
    },
    {
      "cell_type": "markdown",
      "source": [
        "The school information data is from the [National Center for Education Statistics](https://nces.ed.gov/ccd/pubschuniv.asp). This data set consists of basic identifying information about schools and can be assumed to be of reasonably high quality. As for the EdGap.org data, the school information data is public, so we would be able to consult the original data sources to check the quality of the data if we had any questions.\n"
      ],
      "metadata": {
        "id": "y7K1km9Tcdy3"
      }
    },
    {
      "cell_type": "markdown",
      "source": [
        "## Load the data"
      ],
      "metadata": {
        "id": "5qccuG8vy7Ja"
      }
    },
    {
      "cell_type": "markdown",
      "source": [
        "Load the EdGap\n",
        " data set"
      ],
      "metadata": {
        "id": "eJEcz0yYiY0r"
      }
    },
    {
      "cell_type": "code",
      "source": [
        "edgap = pd.read_excel('https://raw.githubusercontent.com/brian-fischer/DATA-3320/main/education/EdGap_data.xlsx')"
      ],
      "metadata": {
        "id": "iClV9MZBiY0r",
        "outputId": "6029ca41-a301-4adb-8143-b98ce05cc390",
        "colab": {
          "base_uri": "https://localhost:8080/"
        }
      },
      "execution_count": 2,
      "outputs": [
        {
          "output_type": "stream",
          "name": "stderr",
          "text": [
            "/usr/local/lib/python3.9/dist-packages/openpyxl/worksheet/_reader.py:312: UserWarning: Unknown extension is not supported and will be removed\n",
            "  warn(msg)\n"
          ]
        }
      ]
    },
    {
      "cell_type": "markdown",
      "source": [
        "Load the school information data"
      ],
      "metadata": {
        "id": "yQ_5N98addPO"
      }
    },
    {
      "cell_type": "code",
      "source": [
        "!wget https://www.dropbox.com/s/lkl5nvcdmwyoban/ccd_sch_029_1617_w_1a_11212017.csv?dl=0"
      ],
      "metadata": {
        "id": "4koKUuw4doCI",
        "outputId": "6d285ad2-2cba-491a-a116-4b4d4bce9e1a",
        "colab": {
          "base_uri": "https://localhost:8080/"
        }
      },
      "execution_count": 3,
      "outputs": [
        {
          "output_type": "stream",
          "name": "stdout",
          "text": [
            "--2023-04-23 22:16:12--  https://www.dropbox.com/s/lkl5nvcdmwyoban/ccd_sch_029_1617_w_1a_11212017.csv?dl=0\n",
            "Resolving www.dropbox.com (www.dropbox.com)... 162.125.80.18, 2620:100:6035:18::a27d:5512\n",
            "Connecting to www.dropbox.com (www.dropbox.com)|162.125.80.18|:443... connected.\n",
            "HTTP request sent, awaiting response... 302 Found\n",
            "Location: /s/raw/lkl5nvcdmwyoban/ccd_sch_029_1617_w_1a_11212017.csv [following]\n",
            "--2023-04-23 22:16:12--  https://www.dropbox.com/s/raw/lkl5nvcdmwyoban/ccd_sch_029_1617_w_1a_11212017.csv\n",
            "Reusing existing connection to www.dropbox.com:443.\n",
            "HTTP request sent, awaiting response... 302 Found\n",
            "Location: https://ucc188e0a9ef40b072e4c410751c.dl.dropboxusercontent.com/cd/0/inline/B6w8URIsiZxdg4r3BOCVYhOb7LA2wkJiNBV7d6BI7P4R4fW-gdRi02Cwif2NBdDXFxvCoi5al2TwtQF7y318DlBOyAH3ru2PBnEZDoE93r7_mMvv8K40fpQN-xw6z8pTyAe9jAhpWykwUJJb9YeZxyuGiJG3sSiZa0qexQnR7h9Etg/file# [following]\n",
            "--2023-04-23 22:16:13--  https://ucc188e0a9ef40b072e4c410751c.dl.dropboxusercontent.com/cd/0/inline/B6w8URIsiZxdg4r3BOCVYhOb7LA2wkJiNBV7d6BI7P4R4fW-gdRi02Cwif2NBdDXFxvCoi5al2TwtQF7y318DlBOyAH3ru2PBnEZDoE93r7_mMvv8K40fpQN-xw6z8pTyAe9jAhpWykwUJJb9YeZxyuGiJG3sSiZa0qexQnR7h9Etg/file\n",
            "Resolving ucc188e0a9ef40b072e4c410751c.dl.dropboxusercontent.com (ucc188e0a9ef40b072e4c410751c.dl.dropboxusercontent.com)... 162.125.80.15, 2620:100:6035:15::a27d:550f\n",
            "Connecting to ucc188e0a9ef40b072e4c410751c.dl.dropboxusercontent.com (ucc188e0a9ef40b072e4c410751c.dl.dropboxusercontent.com)|162.125.80.15|:443... connected.\n",
            "HTTP request sent, awaiting response... 200 OK\n",
            "Length: 40477083 (39M) [text/plain]\n",
            "Saving to: ‘ccd_sch_029_1617_w_1a_11212017.csv?dl=0’\n",
            "\n",
            "ccd_sch_029_1617_w_ 100%[===================>]  38.60M  21.5MB/s    in 1.8s    \n",
            "\n",
            "2023-04-23 22:16:15 (21.5 MB/s) - ‘ccd_sch_029_1617_w_1a_11212017.csv?dl=0’ saved [40477083/40477083]\n",
            "\n"
          ]
        }
      ]
    },
    {
      "cell_type": "code",
      "source": [
        "school_info = pd.read_csv('ccd_sch_029_1617_w_1a_11212017.csv?dl=0', encoding='unicode_escape')"
      ],
      "metadata": {
        "id": "baD6nLnsdrmj",
        "outputId": "bcef7639-b688-48e2-8d93-268aba48ce88",
        "colab": {
          "base_uri": "https://localhost:8080/"
        }
      },
      "execution_count": 4,
      "outputs": [
        {
          "output_type": "stream",
          "name": "stderr",
          "text": [
            "<ipython-input-4-da1a7837c049>:1: DtypeWarning: Columns (6,9,14,15,18,19,21,22,25,26,29,31,35,39,41,42) have mixed types. Specify dtype option on import or set low_memory=False.\n",
            "  school_info = pd.read_csv('ccd_sch_029_1617_w_1a_11212017.csv?dl=0', encoding='unicode_escape')\n"
          ]
        }
      ]
    },
    {
      "cell_type": "markdown",
      "source": [
        "## Explore the contents of the data sets"
      ],
      "metadata": {
        "id": "OHVSgzXFd4nf"
      }
    },
    {
      "cell_type": "code",
      "source": [
        "edgap.info()"
      ],
      "metadata": {
        "id": "kvGRg-5yL8c_",
        "outputId": "3d9a1bb1-4161-4c1c-b2a7-3def3311a985",
        "colab": {
          "base_uri": "https://localhost:8080/"
        }
      },
      "execution_count": 5,
      "outputs": [
        {
          "output_type": "stream",
          "name": "stdout",
          "text": [
            "<class 'pandas.core.frame.DataFrame'>\n",
            "RangeIndex: 7986 entries, 0 to 7985\n",
            "Data columns (total 7 columns):\n",
            " #   Column                                           Non-Null Count  Dtype  \n",
            "---  ------                                           --------------  -----  \n",
            " 0   NCESSCH School ID                                7986 non-null   int64  \n",
            " 1   CT Unemployment Rate                             7972 non-null   float64\n",
            " 2   CT Pct Adults with College Degree                7973 non-null   float64\n",
            " 3   CT Pct Childre In Married Couple Family          7961 non-null   float64\n",
            " 4   CT Median Household Income                       7966 non-null   float64\n",
            " 5   School ACT average (or equivalent if SAT score)  7986 non-null   float64\n",
            " 6   School Pct Free and Reduced Lunch                7986 non-null   float64\n",
            "dtypes: float64(6), int64(1)\n",
            "memory usage: 436.9 KB\n"
          ]
        }
      ]
    },
    {
      "cell_type": "code",
      "source": [
        "school_info.info()"
      ],
      "metadata": {
        "id": "nbz0458hL-16",
        "outputId": "8d94775e-7143-4e5a-b231-311b3a541558",
        "colab": {
          "base_uri": "https://localhost:8080/"
        }
      },
      "execution_count": 6,
      "outputs": [
        {
          "output_type": "stream",
          "name": "stdout",
          "text": [
            "<class 'pandas.core.frame.DataFrame'>\n",
            "RangeIndex: 102183 entries, 0 to 102182\n",
            "Data columns (total 65 columns):\n",
            " #   Column               Non-Null Count   Dtype  \n",
            "---  ------               --------------   -----  \n",
            " 0   SCHOOL_YEAR          102183 non-null  object \n",
            " 1   FIPST                102183 non-null  int64  \n",
            " 2   STATENAME            102183 non-null  object \n",
            " 3   ST                   102183 non-null  object \n",
            " 4   SCH_NAME             102183 non-null  object \n",
            " 5   LEA_NAME             102183 non-null  object \n",
            " 6   STATE_AGENCY_NO      102183 non-null  object \n",
            " 7   UNION                2533 non-null    float64\n",
            " 8   ST_LEAID             102183 non-null  object \n",
            " 9   LEAID                102183 non-null  object \n",
            " 10  ST_SCHID             102183 non-null  object \n",
            " 11  NCESSCH              102181 non-null  float64\n",
            " 12  SCHID                102181 non-null  float64\n",
            " 13  MSTREET1             102181 non-null  object \n",
            " 14  MSTREET2             1825 non-null    object \n",
            " 15  MSTREET3             28 non-null      object \n",
            " 16  MCITY                102183 non-null  object \n",
            " 17  MSTATE               102183 non-null  object \n",
            " 18  MZIP                 102183 non-null  object \n",
            " 19  MZIP4                60419 non-null   object \n",
            " 20  LSTREET1             102183 non-null  object \n",
            " 21  LSTREET2             582 non-null     object \n",
            " 22  LSTREET3             13 non-null      object \n",
            " 23  LCITY                102183 non-null  object \n",
            " 24  LSTATE               102183 non-null  object \n",
            " 25  LZIP                 102183 non-null  object \n",
            " 26  LZIP4                59145 non-null   object \n",
            " 27  PHONE                102183 non-null  object \n",
            " 28  WEBSITE              51983 non-null   object \n",
            " 29  SY_STATUS            102181 non-null  object \n",
            " 30  SY_STATUS_TEXT       102181 non-null  object \n",
            " 31  UPDATED_STATUS       102181 non-null  object \n",
            " 32  UPDATED_STATUS_TEXT  102181 non-null  object \n",
            " 33  EFFECTIVE_DATE       102181 non-null  object \n",
            " 34  SCH_TYPE_TEXT        102181 non-null  object \n",
            " 35  SCH_TYPE             102181 non-null  object \n",
            " 36  RECON_STATUS         102181 non-null  object \n",
            " 37  OUT_OF_STATE_FLAG    102179 non-null  object \n",
            " 38  CHARTER_TEXT         102179 non-null  object \n",
            " 39  CHARTAUTH1           6687 non-null    object \n",
            " 40  CHARTAUTHN1          6687 non-null    object \n",
            " 41  CHARTAUTH2           116 non-null     object \n",
            " 42  CHARTAUTHN2          116 non-null     object \n",
            " 43  NOGRADES             102179 non-null  object \n",
            " 44  G_PK_OFFERED         102179 non-null  object \n",
            " 45  G_KG_OFFERED         102179 non-null  object \n",
            " 46  G_1_OFFERED          102179 non-null  object \n",
            " 47  G_2_OFFERED          102179 non-null  object \n",
            " 48  G_3_OFFERED          102179 non-null  object \n",
            " 49  G_4_OFFERED          102179 non-null  object \n",
            " 50  G_5_OFFERED          102179 non-null  object \n",
            " 51  G_6_OFFERED          102179 non-null  object \n",
            " 52  G_7_OFFERED          102179 non-null  object \n",
            " 53  G_8_OFFERED          102179 non-null  object \n",
            " 54  G_9_OFFERED          102179 non-null  object \n",
            " 55  G_10_OFFERED         102179 non-null  object \n",
            " 56  G_11_OFFERED         102179 non-null  object \n",
            " 57  G_12_OFFERED         102179 non-null  object \n",
            " 58  G_13_OFFERED         102179 non-null  object \n",
            " 59  G_UG_OFFERED         102179 non-null  object \n",
            " 60  G_AE_OFFERED         102179 non-null  object \n",
            " 61  GSLO                 102179 non-null  object \n",
            " 62  GSHI                 102179 non-null  object \n",
            " 63  LEVEL                102179 non-null  object \n",
            " 64  IGOFFERED            102179 non-null  object \n",
            "dtypes: float64(3), int64(1), object(61)\n",
            "memory usage: 50.7+ MB\n"
          ]
        }
      ]
    },
    {
      "cell_type": "markdown",
      "source": [
        "## Convert data types, if necessary"
      ],
      "metadata": {
        "id": "kTG4W94-irIA"
      }
    },
    {
      "cell_type": "markdown",
      "source": [
        "We convert NCESSCH to an int to make it easier to work with."
      ],
      "metadata": {
        "id": "4g540QWDXDpU"
      }
    },
    {
      "cell_type": "code",
      "source": [
        "school_info = school_info[school_info['NCESSCH'].isna() == False]\n",
        "school_info['NCESSCH'] = school_info['NCESSCH'].astype('int64')"
      ],
      "metadata": {
        "id": "9FsIT0FlMV6s",
        "outputId": "94af2c55-5a63-4483-bcc4-631e6490b1c2",
        "colab": {
          "base_uri": "https://localhost:8080/"
        }
      },
      "execution_count": 8,
      "outputs": [
        {
          "output_type": "stream",
          "name": "stderr",
          "text": [
            "<ipython-input-8-4e290db03d6f>:2: SettingWithCopyWarning: \n",
            "A value is trying to be set on a copy of a slice from a DataFrame.\n",
            "Try using .loc[row_indexer,col_indexer] = value instead\n",
            "\n",
            "See the caveats in the documentation: https://pandas.pydata.org/pandas-docs/stable/user_guide/indexing.html#returning-a-view-versus-a-copy\n",
            "  school_info['NCESSCH'] = school_info['NCESSCH'].astype('int64')\n"
          ]
        }
      ]
    },
    {
      "cell_type": "markdown",
      "source": [
        "## Are the data suitable for answering the question?"
      ],
      "metadata": {
        "id": "35pKxSfb2zIs"
      }
    },
    {
      "cell_type": "markdown",
      "source": [
        "There is a lot of suitable data. We have the act score column which will be the main factor we will investigate. We will have data such as employment, income, and education as variables we will compare with act score."
      ],
      "metadata": {
        "id": "kywuWQaG22rv"
      }
    },
    {
      "cell_type": "markdown",
      "source": [
        "## Select relevant subsets of the data"
      ],
      "metadata": {
        "id": "HbsdH56_ijIS"
      }
    },
    {
      "cell_type": "markdown",
      "source": [
        "The school information data set contains a lot of information. We only need the year, school identity, location, and school type information.\n",
        "\n",
        "Keep the columns `SCHOOL_YEAR`, `NCESSCH`, `MSTATE`, `MZIP`, `SCH_TYPE_TEXT`, `LEVEL`"
      ],
      "metadata": {
        "id": "pkgfwkedip-C"
      }
    },
    {
      "cell_type": "code",
      "source": [
        "school_info = school_info[['SCHOOL_YEAR', 'NCESSCH', 'MSTATE', 'MZIP', 'SCH_TYPE_TEXT', 'LEVEL']]"
      ],
      "metadata": {
        "id": "aaz3dW1FNAfH"
      },
      "execution_count": 10,
      "outputs": []
    },
    {
      "cell_type": "markdown",
      "source": [
        "## Rename columns"
      ],
      "metadata": {
        "id": "3wvK6vF-85aX"
      }
    },
    {
      "cell_type": "code",
      "source": [
        "edgap = edgap.rename(columns={\"NCESSCH School ID\":\"id\", \n",
        "              \"CT Pct Adults with College Degree\":\"percent_college\",        \n",
        "              \"CT Unemployment Rate\":\"rate_unemployment\", \n",
        "              \"CT Pct Childre In Married Couple Family\":\"percent_married\",\n",
        "              \"CT Median Household Income\":\"median_income\",\n",
        "              \"School ACT average (or equivalent if SAT score)\":\"average_act\",\n",
        "              \"School Pct Free and Reduced Lunch\":\"percent_lunch\"})"
      ],
      "metadata": {
        "id": "OXpbbI-v9QSY"
      },
      "execution_count": 11,
      "outputs": []
    },
    {
      "cell_type": "markdown",
      "source": [
        "Rename the columns `SCHOOL_YEAR`, `NCESSCH`, `MSTATE`, `MZIP`, `SCH_TYPE_TEXT`, `LEVEL` to `year`, `id`, `state`, `zip_code`, `school_type`, `school_level`"
      ],
      "metadata": {
        "id": "qVuEIRuWix51"
      }
    },
    {
      "cell_type": "code",
      "source": [
        "school_info = school_info.rename(columns={'SCHOOL_YEAR':'year', \n",
        "                                          'NCESSCH':'id', \n",
        "                                          'MSTATE':'state',\n",
        "                                          'MZIP':'zip_code',\n",
        "                                          'SCH_TYPE_TEXT':'school_type',\n",
        "                                          'LEVEL':'school_level'})"
      ],
      "metadata": {
        "id": "TvFoDMyENHNz"
      },
      "execution_count": 12,
      "outputs": []
    },
    {
      "cell_type": "markdown",
      "source": [
        "## Join data frames "
      ],
      "metadata": {
        "id": "BkCnFJdVryvv"
      }
    },
    {
      "cell_type": "markdown",
      "source": [
        "We do a left join here because we want all the rows from the edgap table."
      ],
      "metadata": {
        "id": "JhDPGxQRTaUL"
      }
    },
    {
      "cell_type": "code",
      "source": [
        "df = edgap.merge(school_info, how = 'left', on='id')"
      ],
      "metadata": {
        "id": "mKCW-q6sNMx9"
      },
      "execution_count": 14,
      "outputs": []
    },
    {
      "cell_type": "markdown",
      "source": [
        "## Quality Control"
      ],
      "metadata": {
        "id": "OgPjzVV5jbI9"
      }
    },
    {
      "cell_type": "markdown",
      "source": [
        "Check for out-of-range values or values that do not match what we want to analyze. Either set values to `NaN` or remove the observations, as appropriate."
      ],
      "metadata": {
        "id": "tJqkbbiNjgxZ"
      }
    },
    {
      "cell_type": "code",
      "source": [
        "df.agg(['min', 'max']).round(2)"
      ],
      "metadata": {
        "id": "8weKatZ8Nd_a",
        "outputId": "9d3c96af-a280-47b6-a71c-54263805324d",
        "colab": {
          "base_uri": "https://localhost:8080/",
          "height": 166
        }
      },
      "execution_count": 15,
      "outputs": [
        {
          "output_type": "stream",
          "name": "stderr",
          "text": [
            "<ipython-input-15-39a2038683d4>:1: FutureWarning: ['year', 'state', 'zip_code', 'school_type', 'school_level'] did not aggregate successfully. If any error is raised this will raise in a future version of pandas. Drop these columns/ops to avoid this warning.\n",
            "  df.agg(['min', 'max']).round(2)\n"
          ]
        },
        {
          "output_type": "execute_result",
          "data": {
            "text/plain": [
              "               id  rate_unemployment  percent_college  percent_married  \\\n",
              "min  100001600143               0.00             0.09              0.0   \n",
              "max  560583000335               0.59             1.00              1.0   \n",
              "\n",
              "     median_income  average_act  percent_lunch  \n",
              "min         3589.0        -3.07          -0.05  \n",
              "max       226181.0        32.36           1.00  "
            ],
            "text/html": [
              "\n",
              "  <div id=\"df-e38f5f13-24dd-4965-afea-a97efc7bf3db\">\n",
              "    <div class=\"colab-df-container\">\n",
              "      <div>\n",
              "<style scoped>\n",
              "    .dataframe tbody tr th:only-of-type {\n",
              "        vertical-align: middle;\n",
              "    }\n",
              "\n",
              "    .dataframe tbody tr th {\n",
              "        vertical-align: top;\n",
              "    }\n",
              "\n",
              "    .dataframe thead th {\n",
              "        text-align: right;\n",
              "    }\n",
              "</style>\n",
              "<table border=\"1\" class=\"dataframe\">\n",
              "  <thead>\n",
              "    <tr style=\"text-align: right;\">\n",
              "      <th></th>\n",
              "      <th>id</th>\n",
              "      <th>rate_unemployment</th>\n",
              "      <th>percent_college</th>\n",
              "      <th>percent_married</th>\n",
              "      <th>median_income</th>\n",
              "      <th>average_act</th>\n",
              "      <th>percent_lunch</th>\n",
              "    </tr>\n",
              "  </thead>\n",
              "  <tbody>\n",
              "    <tr>\n",
              "      <th>min</th>\n",
              "      <td>100001600143</td>\n",
              "      <td>0.00</td>\n",
              "      <td>0.09</td>\n",
              "      <td>0.0</td>\n",
              "      <td>3589.0</td>\n",
              "      <td>-3.07</td>\n",
              "      <td>-0.05</td>\n",
              "    </tr>\n",
              "    <tr>\n",
              "      <th>max</th>\n",
              "      <td>560583000335</td>\n",
              "      <td>0.59</td>\n",
              "      <td>1.00</td>\n",
              "      <td>1.0</td>\n",
              "      <td>226181.0</td>\n",
              "      <td>32.36</td>\n",
              "      <td>1.00</td>\n",
              "    </tr>\n",
              "  </tbody>\n",
              "</table>\n",
              "</div>\n",
              "      <button class=\"colab-df-convert\" onclick=\"convertToInteractive('df-e38f5f13-24dd-4965-afea-a97efc7bf3db')\"\n",
              "              title=\"Convert this dataframe to an interactive table.\"\n",
              "              style=\"display:none;\">\n",
              "        \n",
              "  <svg xmlns=\"http://www.w3.org/2000/svg\" height=\"24px\"viewBox=\"0 0 24 24\"\n",
              "       width=\"24px\">\n",
              "    <path d=\"M0 0h24v24H0V0z\" fill=\"none\"/>\n",
              "    <path d=\"M18.56 5.44l.94 2.06.94-2.06 2.06-.94-2.06-.94-.94-2.06-.94 2.06-2.06.94zm-11 1L8.5 8.5l.94-2.06 2.06-.94-2.06-.94L8.5 2.5l-.94 2.06-2.06.94zm10 10l.94 2.06.94-2.06 2.06-.94-2.06-.94-.94-2.06-.94 2.06-2.06.94z\"/><path d=\"M17.41 7.96l-1.37-1.37c-.4-.4-.92-.59-1.43-.59-.52 0-1.04.2-1.43.59L10.3 9.45l-7.72 7.72c-.78.78-.78 2.05 0 2.83L4 21.41c.39.39.9.59 1.41.59.51 0 1.02-.2 1.41-.59l7.78-7.78 2.81-2.81c.8-.78.8-2.07 0-2.86zM5.41 20L4 18.59l7.72-7.72 1.47 1.35L5.41 20z\"/>\n",
              "  </svg>\n",
              "      </button>\n",
              "      \n",
              "  <style>\n",
              "    .colab-df-container {\n",
              "      display:flex;\n",
              "      flex-wrap:wrap;\n",
              "      gap: 12px;\n",
              "    }\n",
              "\n",
              "    .colab-df-convert {\n",
              "      background-color: #E8F0FE;\n",
              "      border: none;\n",
              "      border-radius: 50%;\n",
              "      cursor: pointer;\n",
              "      display: none;\n",
              "      fill: #1967D2;\n",
              "      height: 32px;\n",
              "      padding: 0 0 0 0;\n",
              "      width: 32px;\n",
              "    }\n",
              "\n",
              "    .colab-df-convert:hover {\n",
              "      background-color: #E2EBFA;\n",
              "      box-shadow: 0px 1px 2px rgba(60, 64, 67, 0.3), 0px 1px 3px 1px rgba(60, 64, 67, 0.15);\n",
              "      fill: #174EA6;\n",
              "    }\n",
              "\n",
              "    [theme=dark] .colab-df-convert {\n",
              "      background-color: #3B4455;\n",
              "      fill: #D2E3FC;\n",
              "    }\n",
              "\n",
              "    [theme=dark] .colab-df-convert:hover {\n",
              "      background-color: #434B5C;\n",
              "      box-shadow: 0px 1px 3px 1px rgba(0, 0, 0, 0.15);\n",
              "      filter: drop-shadow(0px 1px 2px rgba(0, 0, 0, 0.3));\n",
              "      fill: #FFFFFF;\n",
              "    }\n",
              "  </style>\n",
              "\n",
              "      <script>\n",
              "        const buttonEl =\n",
              "          document.querySelector('#df-e38f5f13-24dd-4965-afea-a97efc7bf3db button.colab-df-convert');\n",
              "        buttonEl.style.display =\n",
              "          google.colab.kernel.accessAllowed ? 'block' : 'none';\n",
              "\n",
              "        async function convertToInteractive(key) {\n",
              "          const element = document.querySelector('#df-e38f5f13-24dd-4965-afea-a97efc7bf3db');\n",
              "          const dataTable =\n",
              "            await google.colab.kernel.invokeFunction('convertToInteractive',\n",
              "                                                     [key], {});\n",
              "          if (!dataTable) return;\n",
              "\n",
              "          const docLinkHtml = 'Like what you see? Visit the ' +\n",
              "            '<a target=\"_blank\" href=https://colab.research.google.com/notebooks/data_table.ipynb>data table notebook</a>'\n",
              "            + ' to learn more about interactive tables.';\n",
              "          element.innerHTML = '';\n",
              "          dataTable['output_type'] = 'display_data';\n",
              "          await google.colab.output.renderOutput(dataTable, element);\n",
              "          const docLink = document.createElement('div');\n",
              "          docLink.innerHTML = docLinkHtml;\n",
              "          element.appendChild(docLink);\n",
              "        }\n",
              "      </script>\n",
              "    </div>\n",
              "  </div>\n",
              "  "
            ]
          },
          "metadata": {},
          "execution_count": 15
        }
      ]
    },
    {
      "cell_type": "code",
      "source": [
        "df['state'].unique()"
      ],
      "metadata": {
        "id": "ENI-fUE4Nnil",
        "outputId": "839f41d8-bc01-4deb-fc82-72de5cf450b1",
        "colab": {
          "base_uri": "https://localhost:8080/"
        }
      },
      "execution_count": 16,
      "outputs": [
        {
          "output_type": "execute_result",
          "data": {
            "text/plain": [
              "array(['DE', 'FL', 'GA', nan, 'IL', 'IN', 'KY', 'LA', 'MA', 'MI', 'MO',\n",
              "       'NJ', 'NY', 'NC', 'OH', 'PA', 'TN', 'TX', 'WA', 'WI', 'WY'],\n",
              "      dtype=object)"
            ]
          },
          "metadata": {},
          "execution_count": 16
        }
      ]
    },
    {
      "cell_type": "markdown",
      "source": [
        "We do not want a percentage to be negative since it does not fit the context, therefore we will remove them. The lowest act score should be 1 so all values below that will be removed. The section of data we are most interested in are students who took the act in highschool so we will drop the data of students outside of highschool."
      ],
      "metadata": {
        "id": "5dxz-XwCUDQl"
      }
    },
    {
      "cell_type": "code",
      "source": [
        "df['percent_lunch'] = np.where((df['percent_lunch'] < 0), np.nan, df['percent_lunch'])\n",
        "df['average_act'] = np.where((df['average_act'] < 1), np.nan, df['average_act'])\n",
        "df.dropna(subset=['average_act'])\n",
        "df=df[df['school_level'] == 'High']\n",
        "df = df.loc[df['average_act'].isna() == False]"
      ],
      "metadata": {
        "id": "Q8FaO6rFN3ez"
      },
      "execution_count": 20,
      "outputs": []
    },
    {
      "cell_type": "markdown",
      "source": [
        "## Identify missing values"
      ],
      "metadata": {
        "id": "aAaUY6N1rtoa"
      }
    },
    {
      "cell_type": "markdown",
      "source": [
        "Determine whether there are missing values in the data set. Only identify them at this point; we will deal with them after creating training and testing splits of the data set."
      ],
      "metadata": {
        "id": "zHqnh684ljfs"
      }
    },
    {
      "cell_type": "code",
      "source": [
        "df.isna().sum()"
      ],
      "metadata": {
        "id": "9ZSLLZDKN-do",
        "outputId": "fe4a2d8a-cccc-4517-f8ba-dd866beb42b1",
        "colab": {
          "base_uri": "https://localhost:8080/"
        }
      },
      "execution_count": 21,
      "outputs": [
        {
          "output_type": "execute_result",
          "data": {
            "text/plain": [
              "id                    0\n",
              "rate_unemployment    12\n",
              "percent_college      11\n",
              "percent_married      20\n",
              "median_income        16\n",
              "average_act           0\n",
              "percent_lunch        20\n",
              "year                  0\n",
              "state                 0\n",
              "zip_code              0\n",
              "school_type           0\n",
              "school_level          0\n",
              "dtype: int64"
            ]
          },
          "metadata": {},
          "execution_count": 21
        }
      ]
    },
    {
      "cell_type": "markdown",
      "source": [
        "## Train test split"
      ],
      "metadata": {
        "id": "TklEWrlhsEiQ"
      }
    },
    {
      "cell_type": "markdown",
      "source": [
        "We will use the test set approach to compare models predicting `average_act`. \n",
        "\n",
        "![](https://upload.wikimedia.org/wikipedia/commons/thumb/b/bb/ML_dataset_training_validation_test_sets.png/800px-ML_dataset_training_validation_test_sets.png)\n",
        "\n",
        "Split the data into training and testing sets. Keep 20% of the data for the test set.\n",
        "\n",
        "We select all the data except for id and the act score for our X and then the act score will be used as the y."
      ],
      "metadata": {
        "id": "OzgppI5mkPio"
      }
    },
    {
      "cell_type": "code",
      "source": [
        "X = df[df.columns.difference(['id','average_act'])]\n",
        "y = df['average_act']\n",
        "X_train, X_test, y_train, y_test = train_test_split(X, y, test_size=.2, random_state = 1)"
      ],
      "metadata": {
        "id": "Btf8PtiQPNlO"
      },
      "execution_count": 22,
      "outputs": []
    },
    {
      "cell_type": "markdown",
      "source": [
        "## Data imputation"
      ],
      "metadata": {
        "id": "AM98iKFqk8wM"
      }
    },
    {
      "cell_type": "markdown",
      "source": [
        "Use an imputation method to replace missing values in the columns corresponding to predictor variables in the analysis."
      ],
      "metadata": {
        "id": "q0E_t7Sgk-nr"
      }
    },
    {
      "cell_type": "code",
      "source": [
        "imputer = IterativeImputer()\n",
        "imputer.fit(X_train.loc[:,'median_income':'rate_unemployment'])\n",
        "X_train.loc[:, 'median_income':'rate_unemployment'] = imputer.transform(X_train.loc[:,'median_income':'rate_unemployment'])\n",
        "X_test.loc[:,'median_income':'rate_unemployment'] = imputer.transform(X_test.loc[:,'median_income':'rate_unemployment'])\n",
        "df_train = X_train.join(y_train)\n",
        "df_test = X_test.join(y_test)"
      ],
      "metadata": {
        "id": "Kvp1MqiuPfUI"
      },
      "execution_count": 25,
      "outputs": []
    },
    {
      "cell_type": "markdown",
      "source": [
        "## Create relevant derived variables as new columns"
      ],
      "metadata": {
        "id": "2IZlt3PksMUK"
      }
    },
    {
      "cell_type": "markdown",
      "source": [
        "We may already know that we want to process the data to create new variables from the existing variables. However, we often start analyzing the data and realize that it is useful to create new variables derived from the existing variables. Or, we might not create any new columns. It is fine to return to modify this step after exploring the data further."
      ],
      "metadata": {
        "id": "hxBtraVUkDxr"
      }
    },
    {
      "cell_type": "markdown",
      "source": [
        "## Export the clean .csv files"
      ],
      "metadata": {
        "id": "oKGHtonZsZCM"
      }
    },
    {
      "cell_type": "markdown",
      "source": [
        "Export files with the training and testing data"
      ],
      "metadata": {
        "id": "OESlEp8tk2uD"
      }
    },
    {
      "cell_type": "code",
      "source": [
        "from google.colab import files\n",
        "\n",
        "df.to_csv('clean_education_inequality.csv', encoding = 'utf-8-sig', index=False) \n",
        "\n",
        "files.download('clean_education_inequality.csv')"
      ],
      "metadata": {
        "id": "lp0iLYOqKtbQ",
        "outputId": "ad50fc55-7afd-4359-cb22-d25bdc870c04",
        "colab": {
          "base_uri": "https://localhost:8080/",
          "height": 17
        }
      },
      "execution_count": 26,
      "outputs": [
        {
          "output_type": "display_data",
          "data": {
            "text/plain": [
              "<IPython.core.display.Javascript object>"
            ],
            "application/javascript": [
              "\n",
              "    async function download(id, filename, size) {\n",
              "      if (!google.colab.kernel.accessAllowed) {\n",
              "        return;\n",
              "      }\n",
              "      const div = document.createElement('div');\n",
              "      const label = document.createElement('label');\n",
              "      label.textContent = `Downloading \"${filename}\": `;\n",
              "      div.appendChild(label);\n",
              "      const progress = document.createElement('progress');\n",
              "      progress.max = size;\n",
              "      div.appendChild(progress);\n",
              "      document.body.appendChild(div);\n",
              "\n",
              "      const buffers = [];\n",
              "      let downloaded = 0;\n",
              "\n",
              "      const channel = await google.colab.kernel.comms.open(id);\n",
              "      // Send a message to notify the kernel that we're ready.\n",
              "      channel.send({})\n",
              "\n",
              "      for await (const message of channel.messages) {\n",
              "        // Send a message to notify the kernel that we're ready.\n",
              "        channel.send({})\n",
              "        if (message.buffers) {\n",
              "          for (const buffer of message.buffers) {\n",
              "            buffers.push(buffer);\n",
              "            downloaded += buffer.byteLength;\n",
              "            progress.value = downloaded;\n",
              "          }\n",
              "        }\n",
              "      }\n",
              "      const blob = new Blob(buffers, {type: 'application/binary'});\n",
              "      const a = document.createElement('a');\n",
              "      a.href = window.URL.createObjectURL(blob);\n",
              "      a.download = filename;\n",
              "      div.appendChild(a);\n",
              "      a.click();\n",
              "      div.remove();\n",
              "    }\n",
              "  "
            ]
          },
          "metadata": {}
        },
        {
          "output_type": "display_data",
          "data": {
            "text/plain": [
              "<IPython.core.display.Javascript object>"
            ],
            "application/javascript": [
              "download(\"download_5ac3347b-0763-43ee-bd7f-74664cabea17\", \"clean_education_inequality.csv\", 1033894)"
            ]
          },
          "metadata": {}
        }
      ]
    }
  ]
}